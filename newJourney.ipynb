{
  "nbformat": 4,
  "nbformat_minor": 0,
  "metadata": {
    "colab": {
      "provenance": [],
      "authorship_tag": "ABX9TyNXgUPOlnF0dMB5ulfcBZHx",
      "include_colab_link": true
    },
    "kernelspec": {
      "name": "python3",
      "display_name": "Python 3"
    },
    "language_info": {
      "name": "python"
    }
  },
  "cells": [
    {
      "cell_type": "markdown",
      "metadata": {
        "id": "view-in-github",
        "colab_type": "text"
      },
      "source": [
        "<a href=\"https://colab.research.google.com/github/mosta82/NewJourneyForPractice/blob/main/newJourney.ipynb\" target=\"_parent\"><img src=\"https://colab.research.google.com/assets/colab-badge.svg\" alt=\"Open In Colab\"/></a>"
      ]
    },
    {
      "cell_type": "code",
      "source": [
        "\n",
        "age = 22\n",
        "name = \"Mostafizur Rahman\"\n",
        "print(\"Name:\", name)\n",
        "print(\"Age:\", age)\n"
      ],
      "metadata": {
        "colab": {
          "base_uri": "https://localhost:8080/"
        },
        "id": "75VRzc7ktjBl",
        "outputId": "1909f2ac-37fb-46f2-bc21-f0cb46f3c604"
      },
      "execution_count": 1,
      "outputs": [
        {
          "output_type": "stream",
          "name": "stdout",
          "text": [
            "Name: Mostafizur Rahman\n",
            "Age: 22\n"
          ]
        }
      ]
    },
    {
      "cell_type": "code",
      "source": [
        "# for loop\n",
        "for i in range(5):\n",
        "    print(\"Number:\", i)\n",
        "\n",
        "# while loop\n",
        "count = 1\n",
        "while count <= 5:\n",
        "    print(\"Count:\", count)\n",
        "    count += 1\n"
      ],
      "metadata": {
        "colab": {
          "base_uri": "https://localhost:8080/"
        },
        "id": "BE4bsvgTtt57",
        "outputId": "f1ef7845-c43c-4d72-d6ac-66476ff99fb0"
      },
      "execution_count": 2,
      "outputs": [
        {
          "output_type": "stream",
          "name": "stdout",
          "text": [
            "Number: 0\n",
            "Number: 1\n",
            "Number: 2\n",
            "Number: 3\n",
            "Number: 4\n",
            "Count: 1\n",
            "Count: 2\n",
            "Count: 3\n",
            "Count: 4\n",
            "Count: 5\n"
          ]
        }
      ]
    },
    {
      "cell_type": "code",
      "source": [
        "import numpy as np\n",
        "\n",
        "\n",
        "arr = np.array([1, 2, 3, 4, 5])\n",
        "print(arr)\n",
        "\n",
        "\n",
        "matrix = np.array([[1, 2], [3, 4]])\n",
        "print(matrix)\n",
        "\n",
        "\n",
        "print(\"Sum:\", arr.sum())\n",
        "print(\"Mean:\", arr.mean())\n",
        "print(\"Multiply by 2:\", arr * 2)\n"
      ],
      "metadata": {
        "colab": {
          "base_uri": "https://localhost:8080/"
        },
        "id": "PnzMWKZUuoBF",
        "outputId": "1ff9635e-bf07-4fec-f5e8-b3751f711eb4"
      },
      "execution_count": 3,
      "outputs": [
        {
          "output_type": "stream",
          "name": "stdout",
          "text": [
            "[1 2 3 4 5]\n",
            "[[1 2]\n",
            " [3 4]]\n",
            "Sum: 15\n",
            "Mean: 3.0\n",
            "Multiply by 2: [ 2  4  6  8 10]\n"
          ]
        }
      ]
    },
    {
      "cell_type": "code",
      "source": [
        "import pandas as pd\n",
        "\n",
        "data = {\n",
        "    \"Name\": [\"Mostafiz\", \"Rahim\", \"Karim\"],\n",
        "    \"Age\": [22, 25, 30],\n",
        "    \"Country\": [\"Bangladesh\", \"India\", \"Nepal\"]\n",
        "}\n",
        "\n",
        "df = pd.DataFrame(data)\n",
        "print(df)\n",
        "\n",
        "print(df[\"Age\"])\n",
        "\n",
        "print(df[df[\"Age\"] > 23])\n"
      ],
      "metadata": {
        "colab": {
          "base_uri": "https://localhost:8080/"
        },
        "id": "2j6GR44lHSFv",
        "outputId": "a0db7c03-0b2c-4102-9f61-2abab17043dd"
      },
      "execution_count": 5,
      "outputs": [
        {
          "output_type": "stream",
          "name": "stdout",
          "text": [
            "       Name  Age     Country\n",
            "0  Mostafiz   22  Bangladesh\n",
            "1     Rahim   25       India\n",
            "2     Karim   30       Nepal\n",
            "0    22\n",
            "1    25\n",
            "2    30\n",
            "Name: Age, dtype: int64\n",
            "    Name  Age Country\n",
            "1  Rahim   25   India\n",
            "2  Karim   30   Nepal\n"
          ]
        }
      ]
    }
  ]
}