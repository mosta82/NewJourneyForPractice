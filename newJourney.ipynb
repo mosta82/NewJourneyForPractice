{
  "nbformat": 4,
  "nbformat_minor": 0,
  "metadata": {
    "colab": {
      "provenance": [],
      "authorship_tag": "ABX9TyPwbrhjRV9EnQ9NGj4kgcXU",
      "include_colab_link": true
    },
    "kernelspec": {
      "name": "python3",
      "display_name": "Python 3"
    },
    "language_info": {
      "name": "python"
    }
  },
  "cells": [
    {
      "cell_type": "markdown",
      "metadata": {
        "id": "view-in-github",
        "colab_type": "text"
      },
      "source": [
        "<a href=\"https://colab.research.google.com/github/mosta82/NewJourneyForPractice/blob/main/newJourney.ipynb\" target=\"_parent\"><img src=\"https://colab.research.google.com/assets/colab-badge.svg\" alt=\"Open In Colab\"/></a>"
      ]
    },
    {
      "cell_type": "code",
      "execution_count": null,
      "metadata": {
        "colab": {
          "base_uri": "https://localhost:8080/"
        },
        "id": "sAugDODkwPYM",
        "outputId": "e5cbf6d4-63cd-4de1-8805-c5b1aaa81a82"
      },
      "outputs": [
        {
          "output_type": "stream",
          "name": "stdout",
          "text": [
            "['apple', 'banana', 'cherry']\n",
            "apple\n",
            "banana\n",
            "['apple', 'banana', 'cherry', 'orange']\n",
            "['apple', 'cherry', 'orange']\n",
            "['mango', 'cherry', 'orange']\n"
          ]
        }
      ],
      "source": [
        "fruits = [\"apple\", \"banana\", \"cherry\"]\n",
        "\n",
        "print(fruits)\n",
        "print(fruits[0])           # apple\n",
        "print(fruits[1])           # banana\n",
        "\n",
        "\n",
        "fruits.append(\"orange\")\n",
        "print(fruits)\n",
        "\n",
        "fruits.remove(\"banana\")\n",
        "print(fruits)\n",
        "\n",
        "\n",
        "fruits[0] = \"mango\"\n",
        "print(fruits)\n"
      ]
    },
    {
      "cell_type": "code",
      "source": [
        "person = {\n",
        "    \"name\": \"Mostafiz\",\n",
        "    \"age\": 25,\n",
        "    \"city\": \"Dhaka\"\n",
        "}\n",
        "\n",
        "print(person)\n",
        "print(person[\"name\"])   # Mostafiz\n",
        "\n",
        "# value change\n",
        "person[\"age\"] = 26\n",
        "print(person)\n",
        "\n",
        "# new key add\n",
        "person[\"profession\"] = \"Engineer\"\n",
        "print(person)\n",
        "\n",
        "# delete\n",
        "del person[\"city\"]\n",
        "print(person)\n"
      ],
      "metadata": {
        "colab": {
          "base_uri": "https://localhost:8080/"
        },
        "id": "_u7s5a_-OSeG",
        "outputId": "30c45a61-f019-43bb-a6d1-510ed48bf19e"
      },
      "execution_count": null,
      "outputs": [
        {
          "output_type": "stream",
          "name": "stdout",
          "text": [
            "{'name': 'Mostafiz', 'age': 25, 'city': 'Dhaka'}\n",
            "Mostafiz\n",
            "{'name': 'Mostafiz', 'age': 26, 'city': 'Dhaka'}\n",
            "{'name': 'Mostafiz', 'age': 26, 'city': 'Dhaka', 'profession': 'Engineer'}\n",
            "{'name': 'Mostafiz', 'age': 26, 'profession': 'Engineer'}\n"
          ]
        }
      ]
    },
    {
      "cell_type": "code",
      "source": [
        "squares = [x*x for x in range(1, 6)]\n",
        "print(squares)   # [1, 4, 9, 16, 25]\n"
      ],
      "metadata": {
        "colab": {
          "base_uri": "https://localhost:8080/"
        },
        "id": "DCLxRdAXVQCI",
        "outputId": "3d933d80-7c77-4d76-d1cd-996b5636b036"
      },
      "execution_count": null,
      "outputs": [
        {
          "output_type": "stream",
          "name": "stdout",
          "text": [
            "[1, 4, 9, 16, 25]\n"
          ]
        }
      ]
    },
    {
      "cell_type": "code",
      "source": [
        "unique = {x%3 for x in [1,2,3,4,5,6,7]}\n",
        "print(unique)   # {0, 1, 2}\n"
      ],
      "metadata": {
        "colab": {
          "base_uri": "https://localhost:8080/"
        },
        "id": "tsAmVTWoWt_P",
        "outputId": "8ae304c7-43d2-4050-d5af-5d3a8fa15130"
      },
      "execution_count": null,
      "outputs": [
        {
          "output_type": "stream",
          "name": "stdout",
          "text": [
            "{0, 1, 2}\n"
          ]
        }
      ]
    },
    {
      "cell_type": "code",
      "source": [
        "sqr_dict = {x: x*x for x in range(1, 6)}\n",
        "print(sqr_dict)"
      ],
      "metadata": {
        "colab": {
          "base_uri": "https://localhost:8080/"
        },
        "id": "BMEjn2cnXAqW",
        "outputId": "aad3e2a3-faa1-4369-d587-83651e24f5a5"
      },
      "execution_count": null,
      "outputs": [
        {
          "output_type": "stream",
          "name": "stdout",
          "text": [
            "{1: 1, 2: 4, 3: 9, 4: 16, 5: 25}\n"
          ]
        }
      ]
    },
    {
      "cell_type": "code",
      "source": [
        "gen = (x*x for x in range(1, 4))\n",
        "print(gen)  # <generator object>\n",
        "\n",
        "for val in gen:\n",
        "    print(val)\n"
      ],
      "metadata": {
        "colab": {
          "base_uri": "https://localhost:8080/"
        },
        "id": "fgSEfKscXl3c",
        "outputId": "64e7fff8-91dc-429b-ac7b-3e57266ea8e8"
      },
      "execution_count": null,
      "outputs": [
        {
          "output_type": "stream",
          "name": "stdout",
          "text": [
            "<generator object <genexpr> at 0x7cf210696dc0>\n",
            "1\n",
            "4\n",
            "9\n"
          ]
        }
      ]
    },
    {
      "cell_type": "code",
      "source": [
        "gen = (x * 2 for x in range(1, 6))\n",
        "print(gen)  # <generator object>\n",
        "for val in gen:\n",
        "  print(val)"
      ],
      "metadata": {
        "colab": {
          "base_uri": "https://localhost:8080/"
        },
        "id": "_YSQN9MyYHId",
        "outputId": "d63d8978-26c1-4c99-e19a-1516f5a1f46f"
      },
      "execution_count": null,
      "outputs": [
        {
          "output_type": "stream",
          "name": "stdout",
          "text": [
            "<generator object <genexpr> at 0x7cf210697370>\n",
            "2\n",
            "4\n",
            "6\n",
            "8\n",
            "10\n"
          ]
        }
      ]
    },
    {
      "cell_type": "code",
      "source": [
        "stack = []\n",
        "\n",
        "# Push\n",
        "stack.append(\"A\")\n",
        "stack.append(\"B\")\n",
        "stack.append(\"C\")\n",
        "\n",
        "print(\"Stack after pushes:\", stack)\n",
        "\n",
        "# Pop\n",
        "top = stack.pop()\n",
        "print(\"Popped item:\", top)\n",
        "\n",
        "print(\"Stack now:\", stack)\n"
      ],
      "metadata": {
        "colab": {
          "base_uri": "https://localhost:8080/"
        },
        "id": "qNhdGhPlZ7ky",
        "outputId": "ae6673b3-653f-4b4b-f10e-bb8c5f9fe15b"
      },
      "execution_count": null,
      "outputs": [
        {
          "output_type": "stream",
          "name": "stdout",
          "text": [
            "Stack after pushes: ['A', 'B', 'C']\n",
            "Popped item: C\n",
            "Stack now: ['A', 'B']\n"
          ]
        }
      ]
    },
    {
      "cell_type": "code",
      "source": [
        "from collections import deque\n",
        "\n",
        "queue = deque()\n",
        "\n",
        "# Enqueue\n",
        "queue.append(\"A\")\n",
        "queue.append(\"B\")\n",
        "queue.append(\"C\")\n",
        "\n",
        "print(\"Queue after enqueues:\", queue)\n",
        "\n",
        "# Dequeue\n",
        "front = queue.popleft()\n",
        "print(\"Dequeued item:\", front)\n",
        "\n",
        "print(\"Queue now:\", queue)\n"
      ],
      "metadata": {
        "colab": {
          "base_uri": "https://localhost:8080/"
        },
        "id": "xo16RfYuaAos",
        "outputId": "82f72e73-dfea-4c11-b8d9-2b15393dbebd"
      },
      "execution_count": null,
      "outputs": [
        {
          "output_type": "stream",
          "name": "stdout",
          "text": [
            "Queue after enqueues: deque(['A', 'B', 'C'])\n",
            "Dequeued item: A\n",
            "Queue now: deque(['B', 'C'])\n"
          ]
        }
      ]
    },
    {
      "cell_type": "code",
      "source": [
        "try:\n",
        "    result = 10 / 0\n",
        "    print(result)\n",
        "except:\n",
        "    print(\"Not division by zero\")\n"
      ],
      "metadata": {
        "colab": {
          "base_uri": "https://localhost:8080/"
        },
        "id": "X13r0tmNdhgV",
        "outputId": "aaa1eec8-1044-43e2-e919-4f1b42a0e388"
      },
      "execution_count": null,
      "outputs": [
        {
          "output_type": "stream",
          "name": "stdout",
          "text": [
            "Not division by zero\n"
          ]
        }
      ]
    },
    {
      "cell_type": "code",
      "source": [
        "try:\n",
        "    number = int(\"hello\")\n",
        "except ValueError:\n",
        "    print(\"doesn't convert to integer\")\n"
      ],
      "metadata": {
        "colab": {
          "base_uri": "https://localhost:8080/"
        },
        "id": "j8HnpTiGeH7W",
        "outputId": "f76a0b40-298a-4e80-a2f9-f201453b9604"
      },
      "execution_count": null,
      "outputs": [
        {
          "output_type": "stream",
          "name": "stdout",
          "text": [
            "doesn't convert to integer\n"
          ]
        }
      ]
    },
    {
      "cell_type": "code",
      "source": [
        "try:\n",
        "    x = int(input(\"give a integer number: \"))\n",
        "    result = 10 / x\n",
        "except ValueError:\n",
        "    print(\"give number !\")\n",
        "except ZeroDivisionError:\n",
        "    print(\"০ don't division !\")\n"
      ],
      "metadata": {
        "colab": {
          "base_uri": "https://localhost:8080/"
        },
        "id": "LDjzEprYe3BL",
        "outputId": "fc09b83c-53cb-4a78-a337-35ea2b9da547"
      },
      "execution_count": null,
      "outputs": [
        {
          "name": "stdout",
          "output_type": "stream",
          "text": [
            "give a integer number: 12\n"
          ]
        }
      ]
    },
    {
      "cell_type": "code",
      "source": [
        "try:\n",
        "    print(\"programm start\")\n",
        "    y = 10 / 5\n",
        "except:\n",
        "    print(\"Error it\")\n",
        "else:\n",
        "    print(\"all good now\")\n",
        "finally:\n",
        "    print(\"this block all time ready\")\n"
      ],
      "metadata": {
        "colab": {
          "base_uri": "https://localhost:8080/"
        },
        "id": "Iq1i7r4CfkdR",
        "outputId": "4bb99139-3447-4954-b6c0-5d3e983ab7a9"
      },
      "execution_count": null,
      "outputs": [
        {
          "output_type": "stream",
          "name": "stdout",
          "text": [
            "programm start\n",
            "all good now\n",
            "this block all time ready\n"
          ]
        }
      ]
    },
    {
      "cell_type": "code",
      "source": [
        "def check_age(age):\n",
        "    if age < 0:\n",
        "        raise ValueError(\"Age do not negative !\")\n",
        "    print(\"Age:\", age)\n",
        "\n",
        "try:\n",
        "    check_age(-5)\n",
        "except ValueError as e:\n",
        "    print(\"Error:\", e)\n"
      ],
      "metadata": {
        "colab": {
          "base_uri": "https://localhost:8080/"
        },
        "id": "v1-GnT1ngqp4",
        "outputId": "67eeb705-fe94-41ab-9587-d52df0e58f48"
      },
      "execution_count": null,
      "outputs": [
        {
          "output_type": "stream",
          "name": "stdout",
          "text": [
            "Error: Age do not negative !\n"
          ]
        }
      ]
    },
    {
      "cell_type": "code",
      "source": [
        "try:\n",
        "    10 / 0\n",
        "except ZeroDivisionError as e:\n",
        "    print(\"Error Details:\", e)\n"
      ],
      "metadata": {
        "colab": {
          "base_uri": "https://localhost:8080/"
        },
        "id": "8Aa9Hp3Rg3ys",
        "outputId": "3f35a147-efaf-4dc3-f335-c8df0123f09c"
      },
      "execution_count": null,
      "outputs": [
        {
          "output_type": "stream",
          "name": "stdout",
          "text": [
            "Error Details: division by zero\n"
          ]
        }
      ]
    },
    {
      "cell_type": "code",
      "source": [
        "try:\n",
        "    x = int(input(\"give number: \"))\n",
        "    result = 100 / x\n",
        "except ZeroDivisionError:\n",
        "    print(\"do not divide by number\")\n",
        "except ValueError:\n",
        "    print(\"give number!\")\n",
        "except Exception as e:\n",
        "    print(\"don't know Problem:\", e)\n",
        "else:\n",
        "    print(\"Result:\", result)\n",
        "finally:\n",
        "    print(\"Thanks!\")\n"
      ],
      "metadata": {
        "colab": {
          "base_uri": "https://localhost:8080/"
        },
        "id": "Mr8D3zf3hIuW",
        "outputId": "e06da23b-1e44-462c-86fc-c7714cc07d38"
      },
      "execution_count": null,
      "outputs": [
        {
          "output_type": "stream",
          "name": "stdout",
          "text": [
            "give number: 10\n",
            "Result: 10.0\n",
            "Thanks!\n"
          ]
        }
      ]
    },
    {
      "cell_type": "code",
      "source": [
        "add = lambda x, y: x + y\n",
        "\n",
        "print(add(5, 3))   # 8\n"
      ],
      "metadata": {
        "colab": {
          "base_uri": "https://localhost:8080/"
        },
        "id": "EIXBK64YC3yp",
        "outputId": "353352a8-404d-4be6-dcbb-01bc6a733215"
      },
      "execution_count": null,
      "outputs": [
        {
          "output_type": "stream",
          "name": "stdout",
          "text": [
            "8\n"
          ]
        }
      ]
    },
    {
      "cell_type": "code",
      "source": [
        "square = lambda n: n * n\n",
        "\n",
        "print(square(4))   # 16\n"
      ],
      "metadata": {
        "colab": {
          "base_uri": "https://localhost:8080/"
        },
        "id": "CwMyeNKPFzr4",
        "outputId": "ca07ed62-6eee-4e87-9d78-89bc613d62bc"
      },
      "execution_count": null,
      "outputs": [
        {
          "output_type": "stream",
          "name": "stdout",
          "text": [
            "16\n"
          ]
        }
      ]
    },
    {
      "cell_type": "code",
      "source": [
        "sumt = lambda a,b,c: a+b+c\n",
        "print(sumt(1,2,3))"
      ],
      "metadata": {
        "colab": {
          "base_uri": "https://localhost:8080/"
        },
        "id": "aU_vf4CoF4HY",
        "outputId": "7c9930cb-764c-4989-fb6a-3cb650f90d26"
      },
      "execution_count": null,
      "outputs": [
        {
          "output_type": "stream",
          "name": "stdout",
          "text": [
            "6\n"
          ]
        }
      ]
    },
    {
      "cell_type": "code",
      "source": [
        "numbers = [1, 2, 3, 4, 5]\n",
        "doubled = map(lambda x: x * 2, numbers)\n",
        "\n",
        "print(set(doubled))   # [2, 4, 6, 8, 10]\n"
      ],
      "metadata": {
        "colab": {
          "base_uri": "https://localhost:8080/"
        },
        "id": "HI5vNqa0LHzB",
        "outputId": "11eedc06-851b-4af9-afdc-24e0b02b2da7"
      },
      "execution_count": null,
      "outputs": [
        {
          "output_type": "stream",
          "name": "stdout",
          "text": [
            "{2, 4, 6, 8, 10}\n"
          ]
        }
      ]
    },
    {
      "cell_type": "code",
      "source": [
        "names = [\"mostafiz\", \"rahman\", \"python\"]\n",
        "upper_names = map(lambda s: s.upper(), names)\n",
        "\n",
        "print(list(upper_names))  # ['MOSTAFIZ', 'RAHMAN', 'PYTHON']\n"
      ],
      "metadata": {
        "colab": {
          "base_uri": "https://localhost:8080/"
        },
        "id": "mo343ng_MP3M",
        "outputId": "f8a053fd-2dc0-4c08-ba28-d00c86a32930"
      },
      "execution_count": null,
      "outputs": [
        {
          "output_type": "stream",
          "name": "stdout",
          "text": [
            "['MOSTAFIZ', 'RAHMAN', 'PYTHON']\n"
          ]
        }
      ]
    },
    {
      "cell_type": "code",
      "source": [
        "nums = [1, 2, 3, 4, 5, 6]\n",
        "evens = filter(lambda x: x % 2 == 0, nums)\n",
        "\n",
        "print(list(evens))  # [2, 4, 6]\n"
      ],
      "metadata": {
        "colab": {
          "base_uri": "https://localhost:8080/"
        },
        "id": "ZX5CNPIOMszk",
        "outputId": "8ff005ef-37d7-4203-88b0-d658b1fc1965"
      },
      "execution_count": null,
      "outputs": [
        {
          "output_type": "stream",
          "name": "stdout",
          "text": [
            "[2, 4, 6]\n"
          ]
        }
      ]
    },
    {
      "cell_type": "code",
      "source": [
        "names = [\"Tom\", \"John\", \"Alexander\"]\n",
        "long_names = filter(lambda s: len(s) > 3, names)\n",
        "\n",
        "print(list(long_names))  # ['John', 'Alexander']\n"
      ],
      "metadata": {
        "colab": {
          "base_uri": "https://localhost:8080/"
        },
        "id": "dt40lwiFNvnm",
        "outputId": "009a1375-acd9-44be-eee0-ef2f992046ae"
      },
      "execution_count": null,
      "outputs": [
        {
          "output_type": "stream",
          "name": "stdout",
          "text": [
            "['John', 'Alexander']\n"
          ]
        }
      ]
    },
    {
      "cell_type": "code",
      "source": [
        "numbers = [1,2,3,4,5,6,7,8,9,10]\n",
        "number = filter(lambda x: x>5,numbers)\n",
        "print(list(number))"
      ],
      "metadata": {
        "colab": {
          "base_uri": "https://localhost:8080/"
        },
        "id": "YhMq9e3YPD2H",
        "outputId": "4ccd0ade-e4c5-48ea-bd81-c0aa762ab241"
      },
      "execution_count": null,
      "outputs": [
        {
          "output_type": "stream",
          "name": "stdout",
          "text": [
            "[6, 7, 8, 9, 10]\n"
          ]
        }
      ]
    },
    {
      "cell_type": "code",
      "source": [
        "from functools import reduce\n",
        "\n",
        "nums = [1, 2, 3, 4, 5]\n",
        "total = reduce(lambda x, y: x + y, nums)\n",
        "\n",
        "print(total)   # 15\n"
      ],
      "metadata": {
        "colab": {
          "base_uri": "https://localhost:8080/"
        },
        "id": "JhR7XWTOQyH4",
        "outputId": "796013b0-36dc-43d4-c3ed-b9024a570b32"
      },
      "execution_count": null,
      "outputs": [
        {
          "output_type": "stream",
          "name": "stdout",
          "text": [
            "15\n"
          ]
        }
      ]
    },
    {
      "cell_type": "code",
      "source": [
        "from functools import reduce\n",
        "\n",
        "nums = [1, 2, 3, 4, 5]\n",
        "total = reduce(lambda x, y: x * y, nums)\n",
        "\n",
        "print(total)\n"
      ],
      "metadata": {
        "colab": {
          "base_uri": "https://localhost:8080/"
        },
        "id": "IoQakum_Rz1s",
        "outputId": "4cd05610-9b1d-46fd-d347-c18beff51948"
      },
      "execution_count": null,
      "outputs": [
        {
          "output_type": "stream",
          "name": "stdout",
          "text": [
            "120\n"
          ]
        }
      ]
    },
    {
      "cell_type": "code",
      "source": [
        "class Person:\n",
        "    pass\n",
        "\n",
        "# Object making\n",
        "\n",
        "p1 = Person()\n",
        "print(p1)\n"
      ],
      "metadata": {
        "colab": {
          "base_uri": "https://localhost:8080/"
        },
        "id": "AAFmUSr4UtVU",
        "outputId": "f6fd436e-afaf-4521-e2b5-b1f6b0476f41"
      },
      "execution_count": null,
      "outputs": [
        {
          "output_type": "stream",
          "name": "stdout",
          "text": [
            "<__main__.Person object at 0x7cf200ab66d0>\n"
          ]
        }
      ]
    },
    {
      "cell_type": "code",
      "source": [
        "class Person:\n",
        "    def __init__(self, name, age):\n",
        "        self.name = name\n",
        "        self.age = age\n",
        "\n",
        "# Object making\n",
        "p1 = Person(\"Mostafiz\", 25)\n",
        "\n",
        "print(p1.name)   # Mostafiz\n",
        "print(p1.age)    # 25\n"
      ],
      "metadata": {
        "colab": {
          "base_uri": "https://localhost:8080/"
        },
        "id": "5TzJzU_dUy7w",
        "outputId": "d7e3f220-26bb-4213-d456-cf52689365cb"
      },
      "execution_count": null,
      "outputs": [
        {
          "output_type": "stream",
          "name": "stdout",
          "text": [
            "Mostafiz\n",
            "25\n"
          ]
        }
      ]
    },
    {
      "cell_type": "code",
      "source": [
        "class Person:\n",
        "    def __init__(self, name):\n",
        "        self.name = name\n",
        "\n",
        "    def greet(self):\n",
        "        print(\"Hello,\", self.name)\n",
        "\n",
        "p = Person(\"Mostafizur Rahman\")\n",
        "p.greet()   # Hello, Rahman\n"
      ],
      "metadata": {
        "colab": {
          "base_uri": "https://localhost:8080/"
        },
        "id": "0QIcWX89VJZB",
        "outputId": "f808cec8-171d-4acd-e6ea-4114f6a6d179"
      },
      "execution_count": null,
      "outputs": [
        {
          "output_type": "stream",
          "name": "stdout",
          "text": [
            "Hello, Mostafizur Rahman\n"
          ]
        }
      ]
    },
    {
      "cell_type": "code",
      "source": [
        "class Car:\n",
        "    def __init__(self, model):\n",
        "        self.model = model\n",
        "        print(\"Car created:\", model)\n",
        "\n",
        "c = Car(\"Tesla\")\n"
      ],
      "metadata": {
        "colab": {
          "base_uri": "https://localhost:8080/"
        },
        "id": "NWfFOY4QVa_b",
        "outputId": "b54cbf46-2184-4cc9-add0-3edf3bd3b213"
      },
      "execution_count": null,
      "outputs": [
        {
          "output_type": "stream",
          "name": "stdout",
          "text": [
            "Car created: Tesla\n"
          ]
        }
      ]
    },
    {
      "cell_type": "code",
      "source": [
        "class Animal:\n",
        "    def speak(self):\n",
        "        print(\"Animal sound\")\n",
        "\n",
        "class Dog(Animal):\n",
        "    def bark(self):\n",
        "        print(\"Woof!\")\n",
        "\n",
        "d = Dog()\n",
        "d.speak()   # Animal sound\n",
        "d.bark()    # Woof!\n"
      ],
      "metadata": {
        "colab": {
          "base_uri": "https://localhost:8080/"
        },
        "id": "HmkYsB6OWKQr",
        "outputId": "4cd6f4df-7f1b-4906-8754-0c9f5c97fc03"
      },
      "execution_count": null,
      "outputs": [
        {
          "output_type": "stream",
          "name": "stdout",
          "text": [
            "Animal sound\n",
            "Woof!\n"
          ]
        }
      ]
    },
    {
      "cell_type": "code",
      "source": [
        "class Cat:\n",
        "    def sound(self):\n",
        "        print(\"Meow\")\n",
        "\n",
        "class Dog:\n",
        "    def sound(self):\n",
        "        print(\"Woof\")\n",
        "\n",
        "# two object\n",
        "c = Cat()\n",
        "d = Dog()\n",
        "print(c.sound())\n",
        "\n",
        "\n",
        "# for animal in (c, d):\n",
        "#     animal.sound()\n"
      ],
      "metadata": {
        "colab": {
          "base_uri": "https://localhost:8080/"
        },
        "id": "R2uqtVtZW_vA",
        "outputId": "f9d1170c-5851-4b11-feef-2266ff95dd22"
      },
      "execution_count": null,
      "outputs": [
        {
          "output_type": "stream",
          "name": "stdout",
          "text": [
            "Meow\n",
            "None\n"
          ]
        }
      ]
    },
    {
      "cell_type": "code",
      "source": [
        "def say_hello(name):\n",
        "    print(\"Hello,\", name)\n",
        "\n",
        "say_hello(\"Mostafiz\")\n",
        "\n"
      ],
      "metadata": {
        "colab": {
          "base_uri": "https://localhost:8080/"
        },
        "id": "KrZP_SWXW_3K",
        "outputId": "7d319fc5-b82c-477a-b850-8675cdf020c7"
      },
      "execution_count": null,
      "outputs": [
        {
          "output_type": "stream",
          "name": "stdout",
          "text": [
            "Hello, Mostafiz\n"
          ]
        }
      ]
    },
    {
      "cell_type": "code",
      "source": [
        "class Student:\n",
        "    def __init__(self, name, student_id):\n",
        "        self.name = name\n",
        "        self.student_id = student_id\n",
        "\n",
        "    def show_info(self):\n",
        "        print(f\"Student Name: {self.name}\")\n",
        "        print(f\"Student ID: {self.student_id}\")\n",
        "class GraduateStudent(Student):\n",
        "    def __init__(self, name, student_id, thesis_title):\n",
        "        # Parent class (Student) to init() call\n",
        "        super().__init__(name, student_id)\n",
        "        self.thesis_title = thesis_title\n",
        "\n",
        "    # show_info() override do\n",
        "    def show_info(self):\n",
        "        print(f\"Graduate Student Name: {self.name}\")\n",
        "        print(f\"Student ID: {self.student_id}\")\n",
        "        print(f\"Thesis Title: {self.thesis_title}\")\n",
        "# general student\n",
        "s1 = Student(\"Mostafiz\", \"ST123\")\n",
        "s1.show_info()\n",
        "\n",
        "print(\"\\n\")\n",
        "\n",
        "# Graduate student\n",
        "g1 = GraduateStudent(\"Rahman\", \"GR456\", \"AI in FinTech Fraud Detection\")\n",
        "g1.show_info()\n"
      ],
      "metadata": {
        "id": "10QRJ251ZoQi"
      },
      "execution_count": null,
      "outputs": []
    },
    {
      "cell_type": "code",
      "source": [
        "import os\n",
        "\n",
        "if os.path.exists(\"mymodule.py\"):\n",
        "    print(\"file  here\")\n",
        "else:\n",
        "    print(\"file not here\")\n"
      ],
      "metadata": {
        "id": "g9VZJ9ctB6ZV",
        "outputId": "3056aec9-f087-4ad0-8b6a-fa6f5727ab9d",
        "colab": {
          "base_uri": "https://localhost:8080/"
        }
      },
      "execution_count": null,
      "outputs": [
        {
          "output_type": "stream",
          "name": "stdout",
          "text": [
            "file not here\n"
          ]
        }
      ]
    },
    {
      "cell_type": "code",
      "source": [
        "count = 5\n",
        "\n",
        "while count > 0:\n",
        "    print(\"Counting down:\", count)\n",
        "    count -= 1\n",
        "\n",
        "print(\"Blast off!\")\n"
      ],
      "metadata": {
        "colab": {
          "base_uri": "https://localhost:8080/"
        },
        "id": "O8DIyKs3xD4N",
        "outputId": "ab7e85fe-53b6-4a4a-fe6b-1ce31c6c333d"
      },
      "execution_count": null,
      "outputs": [
        {
          "output_type": "stream",
          "name": "stdout",
          "text": [
            "Counting down: 5\n",
            "Counting down: 4\n",
            "Counting down: 3\n",
            "Counting down: 2\n",
            "Counting down: 1\n",
            "Blast off!\n"
          ]
        }
      ]
    },
    {
      "cell_type": "code",
      "source": [
        "def calculate_discount(price, discount_percent):\n",
        "    return price - (price * discount_percent / 100)\n",
        "\n",
        "final_price = calculate_discount(1000, 10)\n",
        "print(\"Discounted price:\", final_price)\n"
      ],
      "metadata": {
        "id": "wTn6fZvmRWe3",
        "outputId": "a42defc0-2e93-4e3a-d5ff-7850ea84ec9e",
        "colab": {
          "base_uri": "https://localhost:8080/"
        }
      },
      "execution_count": null,
      "outputs": [
        {
          "output_type": "stream",
          "name": "stdout",
          "text": [
            "Discounted price: 900.0\n"
          ]
        }
      ]
    },
    {
      "cell_type": "code",
      "source": [
        "fruits = [\"apple\", \"banana\", \"mango\"]\n",
        "print(fruits[0])        # Output: apple\n",
        "print(fruits[-1])       # Output: mango\n",
        "fruits.append(\"orange\") # Add to end\n",
        "print(fruits)\n"
      ],
      "metadata": {
        "id": "2ingapwsSNgk",
        "outputId": "ad6570b5-d07a-46ef-f7ab-dca5159bddab",
        "colab": {
          "base_uri": "https://localhost:8080/"
        }
      },
      "execution_count": null,
      "outputs": [
        {
          "output_type": "stream",
          "name": "stdout",
          "text": [
            "apple\n",
            "mango\n",
            "['apple', 'banana', 'mango', 'orange']\n"
          ]
        }
      ]
    },
    {
      "cell_type": "code",
      "source": [
        "cart = []\n",
        "cart.append(\"T-shirt\")\n",
        "cart.append(\"Shoes\")\n",
        "print(\"Cart:\", cart)\n"
      ],
      "metadata": {
        "id": "5WeZHSPwSPd6",
        "outputId": "96b84d15-4416-4785-e277-60c52f7eab8c",
        "colab": {
          "base_uri": "https://localhost:8080/"
        }
      },
      "execution_count": null,
      "outputs": [
        {
          "output_type": "stream",
          "name": "stdout",
          "text": [
            "Cart: ['T-shirt', 'Shoes']\n"
          ]
        }
      ]
    },
    {
      "cell_type": "code",
      "source": [
        "location = (23.78, 90.41)\n",
        "print(\"Latitude:\", location[0])\n"
      ],
      "metadata": {
        "id": "iqj_oP8fSrp9",
        "outputId": "1193026b-ea6e-4e13-de7b-8363c13c227d",
        "colab": {
          "base_uri": "https://localhost:8080/"
        }
      },
      "execution_count": null,
      "outputs": [
        {
          "output_type": "stream",
          "name": "stdout",
          "text": [
            "Latitude: 23.78\n"
          ]
        }
      ]
    },
    {
      "cell_type": "code",
      "source": [
        "places = [(\"Dhaka\", 23.81, 90.41), (\"Cox's Bazar\", 21.45, 91.97)]\n",
        "for name, lat, long in places:\n",
        "    print(f\"{name} is at ({lat}, {long})\")\n"
      ],
      "metadata": {
        "id": "9s5b-hCzSz1_",
        "outputId": "a3a38022-5bf0-4feb-e9fb-70daffc798b0",
        "colab": {
          "base_uri": "https://localhost:8080/"
        }
      },
      "execution_count": null,
      "outputs": [
        {
          "output_type": "stream",
          "name": "stdout",
          "text": [
            "Dhaka is at (23.81, 90.41)\n",
            "Cox's Bazar is at (21.45, 91.97)\n"
          ]
        }
      ]
    },
    {
      "cell_type": "code",
      "source": [
        "colors = {\"red\", \"green\", \"blue\", \"green\"}\n",
        "print(colors)  # No duplicate\n"
      ],
      "metadata": {
        "id": "pPYDkM-8S6it",
        "outputId": "22d1b97d-97f5-4915-dabb-441824d5829a",
        "colab": {
          "base_uri": "https://localhost:8080/"
        }
      },
      "execution_count": null,
      "outputs": [
        {
          "output_type": "stream",
          "name": "stdout",
          "text": [
            "{'green', 'blue', 'red'}\n"
          ]
        }
      ]
    },
    {
      "cell_type": "code",
      "source": [
        "users = [\"alice\", \"bob\", \"alice\", \"charlie\"]\n",
        "unique_users = set(users)\n",
        "print(\"Unique users:\", unique_users)\n"
      ],
      "metadata": {
        "id": "tNeQ5eaTTVFy",
        "outputId": "05f81cf3-58fd-481e-be98-23feba7e5b86",
        "colab": {
          "base_uri": "https://localhost:8080/"
        }
      },
      "execution_count": null,
      "outputs": [
        {
          "output_type": "stream",
          "name": "stdout",
          "text": [
            "Unique users: {'charlie', 'alice', 'bob'}\n"
          ]
        }
      ]
    },
    {
      "cell_type": "code",
      "source": [
        "response = {\n",
        "    \"status\": \"success\",\n",
        "    \"data\": {\n",
        "        \"id\": 101,\n",
        "        \"username\": \"johndoe\",\n",
        "        \"active\": True\n",
        "    }\n",
        "}\n",
        "print(response[\"data\"][\"username\"])\n"
      ],
      "metadata": {
        "id": "Xg_gr34hTcaM",
        "outputId": "8f743195-2bad-4f68-8291-968ecf9d69d6",
        "colab": {
          "base_uri": "https://localhost:8080/"
        }
      },
      "execution_count": null,
      "outputs": [
        {
          "output_type": "stream",
          "name": "stdout",
          "text": [
            "johndoe\n"
          ]
        }
      ]
    },
    {
      "cell_type": "code",
      "source": [
        "squares = [x * x for x in range(1, 6)]\n",
        "print(squares)  # [1, 4, 9, 16, 25]\n"
      ],
      "metadata": {
        "id": "AXVRNmuiTcmK",
        "outputId": "703f2d47-b0e2-40ba-ae24-a70d3d0c92b4",
        "colab": {
          "base_uri": "https://localhost:8080/"
        }
      },
      "execution_count": null,
      "outputs": [
        {
          "output_type": "stream",
          "name": "stdout",
          "text": [
            "[1, 4, 9, 16, 25]\n"
          ]
        }
      ]
    },
    {
      "cell_type": "code",
      "source": [
        "nums = [1, 2, 3, 4, 5, 6]\n",
        "evens = [n for n in nums if n % 2 == 0]\n",
        "print(\"Even numbers:\", evens)\n"
      ],
      "metadata": {
        "id": "cBdE9JOJTcuK",
        "outputId": "a2ef3255-d5a0-4fa0-959b-9d76800fb2a5",
        "colab": {
          "base_uri": "https://localhost:8080/"
        }
      },
      "execution_count": null,
      "outputs": [
        {
          "output_type": "stream",
          "name": "stdout",
          "text": [
            "Even numbers: [2, 4, 6]\n"
          ]
        }
      ]
    },
    {
      "cell_type": "code",
      "source": [
        "users = [\"alice\", \"bob\", \"charlie\"]\n",
        "emails = {user: f\"{user}@gmail.com\" for user in users}\n",
        "print(emails)\n"
      ],
      "metadata": {
        "id": "TDhlLV5u--Vh",
        "outputId": "48979efc-23a0-4204-fc10-5c688b5476e6",
        "colab": {
          "base_uri": "https://localhost:8080/"
        }
      },
      "execution_count": null,
      "outputs": [
        {
          "output_type": "stream",
          "name": "stdout",
          "text": [
            "{'alice': 'alice@gmail.com', 'bob': 'bob@gmail.com', 'charlie': 'charlie@gmail.com'}\n"
          ]
        }
      ]
    },
    {
      "cell_type": "code",
      "source": [
        "# Dictionary comprehension\n",
        "squares = {n: n**2 for n in range(1, 6)}\n",
        "print(\"Squares:\", squares)\n"
      ],
      "metadata": {
        "id": "S0EqVv4VFtUZ",
        "outputId": "d56ce292-817a-4239-daa6-a31981d9044f",
        "colab": {
          "base_uri": "https://localhost:8080/"
        }
      },
      "execution_count": null,
      "outputs": [
        {
          "output_type": "stream",
          "name": "stdout",
          "text": [
            "Squares: {1: 1, 2: 4, 3: 9, 4: 16, 5: 25}\n"
          ]
        }
      ]
    },
    {
      "cell_type": "code",
      "source": [
        "try:\n",
        "    result = 10 / 0\n",
        "except ZeroDivisionError:\n",
        "    print(\"Cannot divide by zero!\")\n"
      ],
      "metadata": {
        "id": "9tuhjzWyF2mn",
        "outputId": "f2dd1eda-2d73-4796-9858-ad186e92c9f6",
        "colab": {
          "base_uri": "https://localhost:8080/"
        }
      },
      "execution_count": null,
      "outputs": [
        {
          "output_type": "stream",
          "name": "stdout",
          "text": [
            "Cannot divide by zero!\n"
          ]
        }
      ]
    },
    {
      "cell_type": "code",
      "source": [
        "try:\n",
        "  num = int('abc')\n",
        "except ValueError:\n",
        "  print(\"Cannot convert to integer.\")\n",
        "except ZeroDivisionError:\n",
        "  print(\"Division by Zero\")"
      ],
      "metadata": {
        "id": "btmO4oTFGg55",
        "outputId": "cb4ef7fb-cba1-43fd-a313-7ebcc5f90b4d",
        "colab": {
          "base_uri": "https://localhost:8080/"
        }
      },
      "execution_count": null,
      "outputs": [
        {
          "output_type": "stream",
          "name": "stdout",
          "text": [
            "Cannot convert to integer.\n"
          ]
        }
      ]
    },
    {
      "cell_type": "code",
      "source": [
        "try:\n",
        "    a = float(input(\"Enter numerator: \"))\n",
        "    b = float(input(\"Enter denominator: \"))\n",
        "\n",
        "    result = a / b\n",
        "    print(\"Result:\", result)\n",
        "\n",
        "except ZeroDivisionError:\n",
        "    print(\"Error: Cannot divide by zero!\")\n",
        "except ValueError:\n",
        "    print(\"Error: Please enter valid numbers.\")\n"
      ],
      "metadata": {
        "id": "Bovk8yjMPNE4",
        "outputId": "4275d8e4-6955-471a-c493-29168ae88144",
        "colab": {
          "base_uri": "https://localhost:8080/"
        }
      },
      "execution_count": 12,
      "outputs": [
        {
          "output_type": "stream",
          "name": "stdout",
          "text": [
            "Enter numerator: 12\n",
            "Enter denominator: 2\n",
            "Result: 6.0\n"
          ]
        }
      ]
    }
  ]
}