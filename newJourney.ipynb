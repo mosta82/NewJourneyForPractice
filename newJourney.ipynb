{
  "nbformat": 4,
  "nbformat_minor": 0,
  "metadata": {
    "colab": {
      "provenance": [],
      "authorship_tag": "ABX9TyNjtc16at1gjU+tXWtLq7bb",
      "include_colab_link": true
    },
    "kernelspec": {
      "name": "python3",
      "display_name": "Python 3"
    },
    "language_info": {
      "name": "python"
    }
  },
  "cells": [
    {
      "cell_type": "markdown",
      "metadata": {
        "id": "view-in-github",
        "colab_type": "text"
      },
      "source": [
        "<a href=\"https://colab.research.google.com/github/mosta82/NewJourneyForPractice/blob/main/newJourney.ipynb\" target=\"_parent\"><img src=\"https://colab.research.google.com/assets/colab-badge.svg\" alt=\"Open In Colab\"/></a>"
      ]
    },
    {
      "cell_type": "code",
      "execution_count": null,
      "metadata": {
        "colab": {
          "base_uri": "https://localhost:8080/"
        },
        "id": "sAugDODkwPYM",
        "outputId": "e5cbf6d4-63cd-4de1-8805-c5b1aaa81a82"
      },
      "outputs": [
        {
          "output_type": "stream",
          "name": "stdout",
          "text": [
            "['apple', 'banana', 'cherry']\n",
            "apple\n",
            "banana\n",
            "['apple', 'banana', 'cherry', 'orange']\n",
            "['apple', 'cherry', 'orange']\n",
            "['mango', 'cherry', 'orange']\n"
          ]
        }
      ],
      "source": [
        "fruits = [\"apple\", \"banana\", \"cherry\"]\n",
        "\n",
        "print(fruits)\n",
        "print(fruits[0])           # apple\n",
        "print(fruits[1])           # banana\n",
        "\n",
        "\n",
        "fruits.append(\"orange\")\n",
        "print(fruits)\n",
        "\n",
        "fruits.remove(\"banana\")\n",
        "print(fruits)\n",
        "\n",
        "\n",
        "fruits[0] = \"mango\"\n",
        "print(fruits)\n"
      ]
    },
    {
      "cell_type": "code",
      "source": [
        "person = {\n",
        "    \"name\": \"Mostafiz\",\n",
        "    \"age\": 25,\n",
        "    \"city\": \"Dhaka\"\n",
        "}\n",
        "\n",
        "print(person)\n",
        "print(person[\"name\"])   # Mostafiz\n",
        "\n",
        "# value change\n",
        "person[\"age\"] = 26\n",
        "print(person)\n",
        "\n",
        "# new key add\n",
        "person[\"profession\"] = \"Engineer\"\n",
        "print(person)\n",
        "\n",
        "# delete\n",
        "del person[\"city\"]\n",
        "print(person)\n"
      ],
      "metadata": {
        "colab": {
          "base_uri": "https://localhost:8080/"
        },
        "id": "_u7s5a_-OSeG",
        "outputId": "30c45a61-f019-43bb-a6d1-510ed48bf19e"
      },
      "execution_count": 1,
      "outputs": [
        {
          "output_type": "stream",
          "name": "stdout",
          "text": [
            "{'name': 'Mostafiz', 'age': 25, 'city': 'Dhaka'}\n",
            "Mostafiz\n",
            "{'name': 'Mostafiz', 'age': 26, 'city': 'Dhaka'}\n",
            "{'name': 'Mostafiz', 'age': 26, 'city': 'Dhaka', 'profession': 'Engineer'}\n",
            "{'name': 'Mostafiz', 'age': 26, 'profession': 'Engineer'}\n"
          ]
        }
      ]
    },
    {
      "cell_type": "code",
      "source": [
        "squares = [x*x for x in range(1, 6)]\n",
        "print(squares)   # [1, 4, 9, 16, 25]\n"
      ],
      "metadata": {
        "colab": {
          "base_uri": "https://localhost:8080/"
        },
        "id": "DCLxRdAXVQCI",
        "outputId": "3d933d80-7c77-4d76-d1cd-996b5636b036"
      },
      "execution_count": 2,
      "outputs": [
        {
          "output_type": "stream",
          "name": "stdout",
          "text": [
            "[1, 4, 9, 16, 25]\n"
          ]
        }
      ]
    },
    {
      "cell_type": "code",
      "source": [
        "unique = {x%3 for x in [1,2,3,4,5,6,7]}\n",
        "print(unique)   # {0, 1, 2}\n"
      ],
      "metadata": {
        "colab": {
          "base_uri": "https://localhost:8080/"
        },
        "id": "tsAmVTWoWt_P",
        "outputId": "8ae304c7-43d2-4050-d5af-5d3a8fa15130"
      },
      "execution_count": 4,
      "outputs": [
        {
          "output_type": "stream",
          "name": "stdout",
          "text": [
            "{0, 1, 2}\n"
          ]
        }
      ]
    },
    {
      "cell_type": "code",
      "source": [
        "sqr_dict = {x: x*x for x in range(1, 6)}\n",
        "print(sqr_dict)"
      ],
      "metadata": {
        "colab": {
          "base_uri": "https://localhost:8080/"
        },
        "id": "BMEjn2cnXAqW",
        "outputId": "aad3e2a3-faa1-4369-d587-83651e24f5a5"
      },
      "execution_count": 5,
      "outputs": [
        {
          "output_type": "stream",
          "name": "stdout",
          "text": [
            "{1: 1, 2: 4, 3: 9, 4: 16, 5: 25}\n"
          ]
        }
      ]
    },
    {
      "cell_type": "code",
      "source": [
        "gen = (x*x for x in range(1, 4))\n",
        "print(gen)  # <generator object>\n",
        "\n",
        "for val in gen:\n",
        "    print(val)\n"
      ],
      "metadata": {
        "colab": {
          "base_uri": "https://localhost:8080/"
        },
        "id": "fgSEfKscXl3c",
        "outputId": "64e7fff8-91dc-429b-ac7b-3e57266ea8e8"
      },
      "execution_count": 6,
      "outputs": [
        {
          "output_type": "stream",
          "name": "stdout",
          "text": [
            "<generator object <genexpr> at 0x7cf210696dc0>\n",
            "1\n",
            "4\n",
            "9\n"
          ]
        }
      ]
    },
    {
      "cell_type": "code",
      "source": [
        "gen = (x * 2 for x in range(1, 6))\n",
        "print(gen)  # <generator object>\n",
        "for val in gen:\n",
        "  print(val)"
      ],
      "metadata": {
        "colab": {
          "base_uri": "https://localhost:8080/"
        },
        "id": "_YSQN9MyYHId",
        "outputId": "d63d8978-26c1-4c99-e19a-1516f5a1f46f"
      },
      "execution_count": 8,
      "outputs": [
        {
          "output_type": "stream",
          "name": "stdout",
          "text": [
            "<generator object <genexpr> at 0x7cf210697370>\n",
            "2\n",
            "4\n",
            "6\n",
            "8\n",
            "10\n"
          ]
        }
      ]
    },
    {
      "cell_type": "code",
      "source": [
        "stack = []\n",
        "\n",
        "# Push\n",
        "stack.append(\"A\")\n",
        "stack.append(\"B\")\n",
        "stack.append(\"C\")\n",
        "\n",
        "print(\"Stack after pushes:\", stack)\n",
        "\n",
        "# Pop\n",
        "top = stack.pop()\n",
        "print(\"Popped item:\", top)\n",
        "\n",
        "print(\"Stack now:\", stack)\n"
      ],
      "metadata": {
        "colab": {
          "base_uri": "https://localhost:8080/"
        },
        "id": "qNhdGhPlZ7ky",
        "outputId": "ae6673b3-653f-4b4b-f10e-bb8c5f9fe15b"
      },
      "execution_count": 9,
      "outputs": [
        {
          "output_type": "stream",
          "name": "stdout",
          "text": [
            "Stack after pushes: ['A', 'B', 'C']\n",
            "Popped item: C\n",
            "Stack now: ['A', 'B']\n"
          ]
        }
      ]
    },
    {
      "cell_type": "code",
      "source": [
        "from collections import deque\n",
        "\n",
        "queue = deque()\n",
        "\n",
        "# Enqueue করা\n",
        "queue.append(\"A\")\n",
        "queue.append(\"B\")\n",
        "queue.append(\"C\")\n",
        "\n",
        "print(\"Queue after enqueues:\", queue)\n",
        "\n",
        "# Dequeue\n",
        "front = queue.popleft()\n",
        "print(\"Dequeued item:\", front)\n",
        "\n",
        "print(\"Queue now:\", queue)\n"
      ],
      "metadata": {
        "colab": {
          "base_uri": "https://localhost:8080/"
        },
        "id": "xo16RfYuaAos",
        "outputId": "82f72e73-dfea-4c11-b8d9-2b15393dbebd"
      },
      "execution_count": 10,
      "outputs": [
        {
          "output_type": "stream",
          "name": "stdout",
          "text": [
            "Queue after enqueues: deque(['A', 'B', 'C'])\n",
            "Dequeued item: A\n",
            "Queue now: deque(['B', 'C'])\n"
          ]
        }
      ]
    }
  ]
}