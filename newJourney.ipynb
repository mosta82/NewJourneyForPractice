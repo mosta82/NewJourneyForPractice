{
  "nbformat": 4,
  "nbformat_minor": 0,
  "metadata": {
    "colab": {
      "provenance": [],
      "authorship_tag": "ABX9TyMnpn9RWL81wfwbxgqRaSC8",
      "include_colab_link": true
    },
    "kernelspec": {
      "name": "python3",
      "display_name": "Python 3"
    },
    "language_info": {
      "name": "python"
    }
  },
  "cells": [
    {
      "cell_type": "markdown",
      "metadata": {
        "id": "view-in-github",
        "colab_type": "text"
      },
      "source": [
        "<a href=\"https://colab.research.google.com/github/mosta82/NewJourneyForPractice/blob/main/newJourney.ipynb\" target=\"_parent\"><img src=\"https://colab.research.google.com/assets/colab-badge.svg\" alt=\"Open In Colab\"/></a>"
      ]
    },
    {
      "cell_type": "code",
      "execution_count": null,
      "metadata": {
        "colab": {
          "base_uri": "https://localhost:8080/"
        },
        "id": "sAugDODkwPYM",
        "outputId": "e5cbf6d4-63cd-4de1-8805-c5b1aaa81a82"
      },
      "outputs": [
        {
          "output_type": "stream",
          "name": "stdout",
          "text": [
            "['apple', 'banana', 'cherry']\n",
            "apple\n",
            "banana\n",
            "['apple', 'banana', 'cherry', 'orange']\n",
            "['apple', 'cherry', 'orange']\n",
            "['mango', 'cherry', 'orange']\n"
          ]
        }
      ],
      "source": [
        "fruits = [\"apple\", \"banana\", \"cherry\"]\n",
        "\n",
        "print(fruits)\n",
        "print(fruits[0])           # apple\n",
        "print(fruits[1])           # banana\n",
        "\n",
        "\n",
        "fruits.append(\"orange\")\n",
        "print(fruits)\n",
        "\n",
        "fruits.remove(\"banana\")\n",
        "print(fruits)\n",
        "\n",
        "\n",
        "fruits[0] = \"mango\"\n",
        "print(fruits)\n"
      ]
    },
    {
      "cell_type": "code",
      "source": [
        "person = {\n",
        "    \"name\": \"Mostafiz\",\n",
        "    \"age\": 25,\n",
        "    \"city\": \"Dhaka\"\n",
        "}\n",
        "\n",
        "print(person)\n",
        "print(person[\"name\"])   # Mostafiz\n",
        "\n",
        "# value change\n",
        "person[\"age\"] = 26\n",
        "print(person)\n",
        "\n",
        "# new key add\n",
        "person[\"profession\"] = \"Engineer\"\n",
        "print(person)\n",
        "\n",
        "# delete\n",
        "del person[\"city\"]\n",
        "print(person)\n"
      ],
      "metadata": {
        "id": "_u7s5a_-OSeG",
        "outputId": "30c45a61-f019-43bb-a6d1-510ed48bf19e",
        "colab": {
          "base_uri": "https://localhost:8080/"
        }
      },
      "execution_count": 1,
      "outputs": [
        {
          "output_type": "stream",
          "name": "stdout",
          "text": [
            "{'name': 'Mostafiz', 'age': 25, 'city': 'Dhaka'}\n",
            "Mostafiz\n",
            "{'name': 'Mostafiz', 'age': 26, 'city': 'Dhaka'}\n",
            "{'name': 'Mostafiz', 'age': 26, 'city': 'Dhaka', 'profession': 'Engineer'}\n",
            "{'name': 'Mostafiz', 'age': 26, 'profession': 'Engineer'}\n"
          ]
        }
      ]
    }
  ]
}